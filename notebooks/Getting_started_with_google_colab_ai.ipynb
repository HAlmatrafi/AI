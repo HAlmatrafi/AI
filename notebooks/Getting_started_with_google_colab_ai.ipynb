{
  "cells": [
    {
      "cell_type": "markdown",
      "source": [
        "# Natural Language Query Interface (NLQI)\n"
      ],
      "metadata": {
        "id": "ZZDcjcmThvPe"
      }
    },
    {
      "cell_type": "markdown",
      "source": [
        "1) Setup\n",
        "\n",
        "\n"
      ],
      "metadata": {
        "id": "fdaHDRGFfRU2"
      }
    },
    {
      "cell_type": "code",
      "source": [
        "!pip -q install pandas duckdb sqlglot sentence-transformers faiss-cpu pydantic python-dateutil"
      ],
      "metadata": {
        "id": "k0krO-y1fPZf"
      },
      "execution_count": null,
      "outputs": []
    },
    {
      "cell_type": "markdown",
      "source": [
        "2) Load sample data (replace with Unifier pulls)\n"
      ],
      "metadata": {
        "id": "QsSm4dWvfQMO"
      }
    },
    {
      "cell_type": "code",
      "source": [
        "import pandas as pd, duckdb, json, datetime as dt\n",
        "invoices = pd.DataFrame([\n",
        "    {\"invoice_id\":1,\"record_number\":\"INV-001\",\"vendor_id\":10,\"contract_id\":100,\"invoice_total\":150000,\"tax_amount\":22500,\"currency\":\"SAR\",\"status\":\"Pending\",\"days_pending\":14,\"created_at\":\"2025-08-03\"},\n",
        "    {\"invoice_id\":2,\"record_number\":\"INV-002\",\"vendor_id\":11,\"contract_id\":101,\"invoice_total\":45000,\"tax_amount\":6750,\"currency\":\"SAR\",\"status\":\"Approved\",\"days_pending\":2,\"created_at\":\"2025-08-05\"},\n",
        "    {\"invoice_id\":3,\"record_number\":\"INV-003\",\"vendor_id\":10,\"contract_id\":100,\"invoice_total\":220000,\"tax_amount\":33000,\"currency\":\"SAR\",\"status\":\"Pending\",\"days_pending\":21,\"created_at\":\"2025-08-02\"},\n",
        "])\n",
        "vendors = pd.DataFrame([\n",
        "    {\"vendor_id\":10,\"vendor_name\":\"ACME Construction\"},\n",
        "    {\"vendor_id\":11,\"vendor_name\":\"Beta Supplies\"}\n",
        "])\n",
        "\n",
        "con = duckdb.connect()\n",
        "con.register(\"invoices\", invoices)\n",
        "con.register(\"vendors\", vendors)\n",
        "PROJECTS_VISIBLE_TO_USER = \"TRUE\"  # replace with project filter for RLS\n"
      ],
      "metadata": {
        "id": "7giMfZ69gW-E"
      },
      "execution_count": null,
      "outputs": []
    },
    {
      "cell_type": "markdown",
      "source": [
        "3) Lightweight semantic mapper (embeddings → column picks)\n"
      ],
      "metadata": {
        "id": "8VM8sDQ_ga4L"
      }
    },
    {
      "cell_type": "code",
      "source": [
        "from sentence_transformers import SentenceTransformer, util\n",
        "model = SentenceTransformer(\"all-MiniLM-L6-v2\")\n",
        "column_catalog = [\n",
        "    (\"invoices\",\"invoice_total\",\"amount total\"),\n",
        "    (\"invoices\",\"status\",\"approval status\"),\n",
        "    (\"invoices\",\"days_pending\",\"overdue pending age\"),\n",
        "    (\"invoices\",\"created_at\",\"date created\"),\n",
        "    (\"vendors\",\"vendor_name\",\"supplier name company\"),\n",
        "]\n",
        "catalog_text = [f\"{t}.{c}: {desc}\" for t,c,desc in column_catalog]\n",
        "catalog_emb = model.encode(catalog_text, normalize_embeddings=True)\n",
        "\n",
        "def lookup(term, k=1):\n",
        "    q = model.encode([term], normalize_embeddings=True)\n",
        "    scores = util.cos_sim(q, catalog_emb).cpu().numpy()[0]\n",
        "    idx = scores.argsort()[::-1][:k]\n",
        "    return [column_catalog[i] for i in idx]\n"
      ],
      "metadata": {
        "id": "baxQwFwugcVk"
      },
      "execution_count": null,
      "outputs": []
    },
    {
      "cell_type": "markdown",
      "source": [
        "4) Simple intent parser (rule+heuristic for demo)\n"
      ],
      "metadata": {
        "id": "hRRl0c5rggP8"
      }
    },
    {
      "cell_type": "code",
      "source": [
        "import re\n",
        "from dateutil.relativedelta import relativedelta\n",
        "\n",
        "def parse_query(q):\n",
        "    ql = q.lower()\n",
        "    vendor = re.findall(r'vendor\\s+([a-z0-9 ]+)', ql) or re.findall(r'\\b(acme|beta)\\b', ql)\n",
        "    vendor_like = f\"%{(vendor[0] if vendor else '').strip()}%\"\n",
        "    amt = re.findall(r'>(\\s*\\d+[kKmM]?)', ql)\n",
        "    def to_number(x):\n",
        "        x=x.strip().lower()\n",
        "        return float(x[:-1])*1000 if x.endswith('k') else float(x[:-1])*1_000_000 if x.endswith('m') else float(x)\n",
        "    min_amount = to_number(amt[0]) if amt else 0\n",
        "\n",
        "    today = dt.date(2025,8,11)\n",
        "    start = today.replace(day=1) if \"this month\" in ql else today - relativedelta(days=30)\n",
        "    return {\n",
        "        \"vendor_like\": vendor_like,\n",
        "        \"min_amount\": min_amount,\n",
        "        \"from\": str(start),\n",
        "        \"to\": str(today),\n",
        "        \"limit\": 100\n",
        "    }\n",
        "\n",
        "def build_sql(params):\n",
        "    rls = PROJECTS_VISIBLE_TO_USER\n",
        "    sql = f\"\"\"\n",
        "    SELECT i.record_number, v.vendor_name, i.invoice_total, i.status, i.days_pending\n",
        "    FROM invoices i\n",
        "    JOIN vendors v ON i.vendor_id = v.vendor_id\n",
        "    WHERE {rls}\n",
        "      AND v.vendor_name ILIKE '{params[\"vendor_like\"]}'\n",
        "      AND i.invoice_total > {params[\"min_amount\"]}\n",
        "      AND i.status = 'Pending'\n",
        "      AND i.created_at BETWEEN '{params[\"from\"]}' AND '{params[\"to\"]}'\n",
        "    ORDER BY i.days_pending DESC\n",
        "    LIMIT {params[\"limit\"]}\n",
        "    \"\"\"\n",
        "    return sql\n",
        "\n",
        "q = \"overdue invoices > 100k for vendor acme this month\"\n",
        "params = parse_query(q)\n",
        "sql = build_sql(params)\n",
        "res = con.execute(sql).df()\n",
        "sql, res\n"
      ],
      "metadata": {
        "id": "CwZ9cODRghyY"
      },
      "execution_count": null,
      "outputs": []
    },
    {
      "cell_type": "markdown",
      "source": [
        "5) Output contract\n",
        "Return to the user:\n",
        "\n",
        "The answer table\n",
        "\n",
        "The generated SQL\n",
        "\n",
        "Assumptions & RLS applied\n",
        "\n",
        "A “Run in Unifier Report” hint with mapped fields"
      ],
      "metadata": {
        "id": "QVaSFADagjnI"
      }
    }
  ],
  "metadata": {
    "colab": {
      "provenance": [],
      "toc_visible": true
    },
    "kernelspec": {
      "name": "python3",
      "display_name": "Python 3"
    },
    "language_info": {
      "name": "python"
    }
  },
  "nbformat": 4,
  "nbformat_minor": 0
}